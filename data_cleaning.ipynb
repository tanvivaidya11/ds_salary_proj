{
 "cells": [
  {
   "cell_type": "code",
   "execution_count": 164,
   "id": "57f10a4c",
   "metadata": {},
   "outputs": [],
   "source": [
    "import pandas as pd\n",
    "\n",
    "df = pd.read_csv('glassdoor_jobs.csv')\n",
    "\n",
    "#salary parsing\n",
    "df = df[df['Salary Estimate'] != '-1'] #take out -1's in salary \n",
    "salary = df['Salary Estimate'].apply(lambda x: x.split('(')[0])\n",
    "minus_Kd = salary.apply(lambda x: x.replace('K', '').replace('$', ''))\n",
    "#evaluators = df['hourly'] = df['Salary Estimate'].apply(lambda x: 1 if 'per hour' in x.lower() else 0)\n",
    "#evaluators = df['employer_provided'] = df['Salary Estimate'].apply(lambda x: 1 if 'employer provided salary:' in x.lower() else 0)\n",
    "\n",
    "min_hr = minus_Kd.apply(lambda x: x.lower().replace('per hour','').replace('employer provided salary:', ''))\n",
    "\n",
    "df['min_salary'] = min_hr.apply(lambda x: int(x.split('-')[0]))\n",
    "df['max_salary'] = min_hr.apply(lambda x: int(x.split('-')[1]))\n",
    "df['average salary'] = (df['min_salary']+df['max_salary'])/2\n",
    "\n",
    "#company name text only\n",
    "df['company_text'] = df.apply(lambda x: x['Company Name'] if x['Rating'] < 0 else x['Company Name'][:-4], axis = 1)\n",
    "\n",
    "#state field \n",
    "df['job_state'] = df.Location.apply(lambda x: x.split(',')[1])\n",
    "df.job_state.value_counts()\n",
    "\n",
    "df['same_state'] = df.apply(lambda x: 1 if x.Location == x.Headquarters else 0, axis = 1)\n",
    "\n",
    "#age of company\n",
    "df['company_age'] = df.Founded.apply(lambda x: x if x < 1 else 2023 - x)\n",
    "\n",
    "#parsing of job description (python, etc)\n",
    "#python \n",
    "df['python'] = df['Job Description'].apply(lambda x: 'yes' if 'python' in x.lower() else 'no')\n",
    "df.python.value_counts()\n",
    "\n",
    "#r studio\n",
    "df['r_studio'] = df['Job Description'].apply(lambda x: 'yes' if 'r studio' in x.lower() or 'r-studio' in x.lower() else 'no')\n",
    "df.r_studio.value_counts()\n",
    "\n",
    "#spark \n",
    "df['spark'] = df['Job Description'].apply(lambda x: 'yes' if 'spark' in x.lower() else 'no')\n",
    "df.spark.value_counts()\n",
    "\n",
    "#aws\n",
    "df['aws'] = df['Job Description'].apply(lambda x: 'yes' if 'aws' in x.lower() else 'no')\n",
    "df.aws.value_counts()\n",
    "\n",
    "#excel \n",
    "df['excel'] = df['Job Description'].apply(lambda x: 'yes' if 'excel' in x.lower() else 'no')\n",
    "df.excel.value_counts()\n",
    "\n",
    "df.columns\n",
    "\n",
    "df_out = df.drop(['Unnamed: 0'], axis =1)\n",
    "\n",
    "df_out.to_csv('salary_data_cleaned.csv',index = False) \n"
   ]
  },
  {
   "cell_type": "code",
   "execution_count": null,
   "id": "7acf3183",
   "metadata": {},
   "outputs": [],
   "source": []
  }
 ],
 "metadata": {
  "kernelspec": {
   "display_name": "Python 3 (ipykernel)",
   "language": "python",
   "name": "python3"
  },
  "language_info": {
   "codemirror_mode": {
    "name": "ipython",
    "version": 3
   },
   "file_extension": ".py",
   "mimetype": "text/x-python",
   "name": "python",
   "nbconvert_exporter": "python",
   "pygments_lexer": "ipython3",
   "version": "3.9.13"
  }
 },
 "nbformat": 4,
 "nbformat_minor": 5
}
